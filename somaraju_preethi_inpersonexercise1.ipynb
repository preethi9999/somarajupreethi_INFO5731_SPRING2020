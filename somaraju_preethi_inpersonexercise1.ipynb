{
 "cells": [
  {
   "cell_type": "markdown",
   "metadata": {
    "colab_type": "text",
    "id": "view-in-github"
   },
   "source": [
    "<a href=\"https://colab.research.google.com/github/unt-iialab/INFO5731_Spring2020/blob/master/In_class_exercise/In_class_exercise_01.ipynb\" target=\"_parent\"><img src=\"https://colab.research.google.com/assets/colab-badge.svg\" alt=\"Open In Colab\"/></a>"
   ]
  },
  {
   "cell_type": "markdown",
   "metadata": {
    "colab_type": "text",
    "id": "DymRJbxDBCnf"
   },
   "source": [
    "# **The first In-class-exercise (9/2/2020, 20 points in total)**"
   ]
  },
  {
   "cell_type": "markdown",
   "metadata": {
    "colab_type": "text",
    "id": "03jb4GZsBkBS"
   },
   "source": [
    "(1) Write a Python program to calculate the length of a string. (2 points)"
   ]
  },
  {
   "cell_type": "code",
   "execution_count": 11,
   "metadata": {
    "colab": {},
    "colab_type": "code",
    "id": "YaGLbSHHB8Ej"
   },
   "outputs": [
    {
     "name": "stdout",
     "output_type": "stream",
     "text": [
      "length of string is: 11\n"
     ]
    }
   ],
   "source": [
    "st = \"Hello world\"\n",
    "#using len keyword to find length of string\n",
    "print(\"length of string is:\",len(st))"
   ]
  },
  {
   "cell_type": "markdown",
   "metadata": {
    "colab_type": "text",
    "id": "jJDe71iLB616"
   },
   "source": [
    "(2) Write a Python program to count the number of characters in a string. (2 points)\n",
    "\n",
    "Sample String : 'google.com‘, \n",
    "\n",
    "Expected Result : {'o': 3, 'g': 2, '.': 1, 'e': 1, 'l': 1, 'm': 1, 'c': 1}"
   ]
  },
  {
   "cell_type": "code",
   "execution_count": 12,
   "metadata": {
    "colab": {},
    "colab_type": "code",
    "id": "MtKskTzbCLaU"
   },
   "outputs": [
    {
     "name": "stdout",
     "output_type": "stream",
     "text": [
      "{'g': 2, 'o': 3, 'l': 1, 'e': 1, '.': 1, 'c': 1, 'm': 1}\n"
     ]
    }
   ],
   "source": [
    "def count(str):\n",
    "    result = {}\n",
    "#creating a dictionary\n",
    "#using for lop to assign keys\n",
    "    for n in str:\n",
    "        keys = result.keys()\n",
    "        if n in keys:\n",
    "            result[n]+=1\n",
    "        else:\n",
    "            result[n]=1\n",
    "#using ifloop to count the characters\n",
    "    return result\n",
    "print(count('google.com'))        "
   ]
  },
  {
   "cell_type": "markdown",
   "metadata": {
    "colab_type": "text",
    "id": "55W9AMdXCSpV"
   },
   "source": [
    "(3) Write a Python program to sum all the items in a list. (2 points)"
   ]
  },
  {
   "cell_type": "code",
   "execution_count": 13,
   "metadata": {
    "colab": {},
    "colab_type": "code",
    "id": "I57NXsauCec2"
   },
   "outputs": [
    {
     "name": "stdout",
     "output_type": "stream",
     "text": [
      "sum of all the items: 51\n"
     ]
    }
   ],
   "source": [
    "li = [1, 19, 20, 11]\n",
    "total = 0\n",
    "#using for loop for summing the items\n",
    "for i in li:\n",
    "    total = total+i\n",
    "print(\"sum of all the items:\",total)"
   ]
  },
  {
   "cell_type": "markdown",
   "metadata": {
    "colab_type": "text",
    "id": "4ulBZ6yhCi9F"
   },
   "source": [
    "(4) Write a Python program to get a string from a given string where all occurrences of its first char have been changed to '\\$', except the first char itself. (2 points)\n",
    "\n",
    "Sample String : 'restart‘, \n",
    "\n",
    "Expected Result : 'resta\\$t'"
   ]
  },
  {
   "cell_type": "code",
   "execution_count": 15,
   "metadata": {
    "colab": {},
    "colab_type": "code",
    "id": "Fj0XhwbBCw2o"
   },
   "outputs": [
    {
     "name": "stdout",
     "output_type": "stream",
     "text": [
      "resta$t\n"
     ]
    }
   ],
   "source": [
    "def change(str):\n",
    "#assigning first character to char\n",
    "    char = str[0]\n",
    "#using slicing to get second character till end\n",
    "    str1 = str[1:]\n",
    "#using replace function to replace first character with dollar\n",
    "    str2 = str1.replace(char,'$')\n",
    "#adding firstcharacter and replaced string for final one\n",
    "    new = char + str2\n",
    "    return new  \n",
    "print(change(\"restart\"))"
   ]
  },
  {
   "cell_type": "markdown",
   "metadata": {
    "colab_type": "text",
    "id": "_bIP7s1MCzue"
   },
   "source": [
    "(5) Write a program with python which could accept two parameter a and b to calculate and output the result of S, where \n",
    "\n",
    "$\\ S=3.14*(1+a/b)^3$ (3 points)\n",
    "\n"
   ]
  },
  {
   "cell_type": "code",
   "execution_count": 14,
   "metadata": {
    "colab": {},
    "colab_type": "code",
    "id": "w79QilHXD3Mg"
   },
   "outputs": [
    {
     "name": "stdout",
     "output_type": "stream",
     "text": [
      "enter value a:1\n",
      "enter value b:1\n",
      "output: 25.12\n"
     ]
    }
   ],
   "source": [
    "a = float(input(\"enter value a:\"))\n",
    "#getting input for a\n",
    "b = float(input(\"enter value b:\"))\n",
    "#getting input for b\n",
    "s = 3.14*(1+(a/b))*(1+(a/b))*(1+(a/b))\n",
    "print(\"output:\",s)"
   ]
  },
  {
   "cell_type": "markdown",
   "metadata": {
    "colab_type": "text",
    "id": "xCa2bK9aD4Q3"
   },
   "source": [
    "(6) Write a Python program to concatenate following dictionaries to create a new one. (3 points)\n",
    "\n",
    "Sample Dictionary : dic1={1:10, 2:20}, dic2={3:30, 4:40}, dic3={5:50,6:60}, \n",
    "\n",
    "Expected Result : {1: 10, 2: 20, 3: 30, 4: 40, 5: 50, 6: 60}\n"
   ]
  },
  {
   "cell_type": "code",
   "execution_count": 16,
   "metadata": {
    "colab": {},
    "colab_type": "code",
    "id": "_z4aLqAbEET1"
   },
   "outputs": [
    {
     "name": "stdout",
     "output_type": "stream",
     "text": [
      "{1: 10, 2: 20, 3: 30, 4: 40, 5: 50, 6: 60}\n"
     ]
    }
   ],
   "source": [
    "dic1={1:10, 2:20}\n",
    "dic2={3:30, 4:40}\n",
    "dic3={5:50,6:60}\n",
    "new = {}\n",
    "#initiating new dictionary\n",
    "for i in (dic1, dic2, dic3): \n",
    "    new.update(i)\n",
    "#using update function to add dictionaries into new one\n",
    "print(new)"
   ]
  },
  {
   "cell_type": "markdown",
   "metadata": {
    "colab_type": "text",
    "id": "0v48Vqa7FrQh"
   },
   "source": [
    "(7) Write a Python program to check whether an element exists within a tuple. (3 points)"
   ]
  },
  {
   "cell_type": "code",
   "execution_count": 35,
   "metadata": {
    "colab": {},
    "colab_type": "code",
    "id": "7WEmgq-DF2P1"
   },
   "outputs": [
    {
     "name": "stdout",
     "output_type": "stream",
     "text": [
      "element doesnt exist\n"
     ]
    }
   ],
   "source": [
    "el = 10\n",
    "t = (1,2,3,4,5)\n",
    "#used simple if loop to see if element exists or not\n",
    "if el in t:\n",
    "    print(\"element exists\")\n",
    "else:\n",
    "    print(\"element doesnt exist\")"
   ]
  },
  {
   "cell_type": "markdown",
   "metadata": {
    "colab_type": "text",
    "id": "vD5PYLMuGga_"
   },
   "source": [
    "(8) Write a Python program to find maximum and the minimum value in a set. (3 points)"
   ]
  },
  {
   "cell_type": "code",
   "execution_count": 39,
   "metadata": {
    "colab": {},
    "colab_type": "code",
    "id": "t0D5kdJUGjjw"
   },
   "outputs": [
    {
     "name": "stdout",
     "output_type": "stream",
     "text": [
      "100\n",
      "0\n"
     ]
    }
   ],
   "source": [
    "s = {1,12,3,10,100,0,25}\n",
    "#used built-in max and min keywords to find minimum and maximum values in string\n",
    "maximum = max(s)\n",
    "minimum = min(s)\n",
    "print(maximum)\n",
    "print(minimum)"
   ]
  },
  {
   "cell_type": "markdown",
   "metadata": {
    "colab_type": "text",
    "id": "uHkd-y5VhVWC"
   },
   "source": [
    "(9) Write a Python program to randomly divide the students in this class into five groups for term projects, each group should have at least 3 students but no more than 5 students (including 5). Here is the students list: (3 points for extra)\n",
    "\n",
    "studnet_list = ['vmb0067','pc0353','snd0097','yye0005','sg0940','bk0301','rak0120','rrk0058','spk0057','vl0135','nm0547','pn0159',\n",
    "                'msp0174','dd0420','ds0761','rs0850','ss1995','at0739','at0768','mv0299','tv0119','dy0091']"
   ]
  },
  {
   "cell_type": "code",
   "execution_count": 17,
   "metadata": {
    "colab": {},
    "colab_type": "code",
    "id": "3iGbmcOBhTwy"
   },
   "outputs": [],
   "source": [
    "from itertools import islice\n",
    "from random import randint\n"
   ]
  },
  {
   "cell_type": "code",
   "execution_count": 34,
   "metadata": {},
   "outputs": [
    {
     "data": {
      "text/plain": [
       "[['vmb0067', 'pc0353', 'snd0097', 'yye0005', 'sg0940'],\n",
       " ['bk0301', 'rak0120', 'rrk0058', 'spk0057', 'vl0135'],\n",
       " ['nm0547', 'pn0159', 'msp0174', 'dd0420'],\n",
       " ['ds0761', 'rs0850', 'ss1995', 'at0739', 'at0768'],\n",
       " ['mv0299', 'tv0119', 'dy0091']]"
      ]
     },
     "execution_count": 34,
     "metadata": {},
     "output_type": "execute_result"
    }
   ],
   "source": [
    "def random_chunk(li, min_chunk=4, max_chunk=5):\n",
    "#defining a function with minimum and maximum students in group\n",
    "    it = iter(li)\n",
    "#using while loop for grouping\n",
    "    while True:\n",
    "        nxt = list(islice(it,randint(min_chunk,max_chunk)))\n",
    "        if nxt:\n",
    "            yield nxt\n",
    "        else:\n",
    "            break\n",
    "li = ['vmb0067','pc0353','snd0097','yye0005','sg0940','bk0301','rak0120','rrk0058','spk0057','vl0135','nm0547','pn0159', 'msp0174','dd0420','ds0761','rs0850','ss1995','at0739','at0768','mv0299','tv0119','dy0091']\n",
    "list(random_chunk(li))"
   ]
  },
  {
   "cell_type": "code",
   "execution_count": null,
   "metadata": {},
   "outputs": [],
   "source": []
  },
  {
   "cell_type": "code",
   "execution_count": null,
   "metadata": {},
   "outputs": [],
   "source": []
  },
  {
   "cell_type": "code",
   "execution_count": null,
   "metadata": {},
   "outputs": [],
   "source": []
  }
 ],
 "metadata": {
  "colab": {
   "collapsed_sections": [],
   "include_colab_link": true,
   "name": "In_class_exercise_01.ipynb",
   "provenance": []
  },
  "kernelspec": {
   "display_name": "Python 3",
   "language": "python",
   "name": "python3"
  },
  "language_info": {
   "codemirror_mode": {
    "name": "ipython",
    "version": 3
   },
   "file_extension": ".py",
   "mimetype": "text/x-python",
   "name": "python",
   "nbconvert_exporter": "python",
   "pygments_lexer": "ipython3",
   "version": "3.7.4"
  }
 },
 "nbformat": 4,
 "nbformat_minor": 1
}
