{
 "cells": [
  {
   "cell_type": "markdown",
   "metadata": {
    "colab_type": "text",
    "id": "view-in-github"
   },
   "source": [
    "<a href=\"https://colab.research.google.com/github/unt-iialab/INFO5731_Spring2020/blob/master/Assignments/INFO5731_Assignment_One.ipynb\" target=\"_parent\"><img src=\"https://colab.research.google.com/assets/colab-badge.svg\" alt=\"Open In Colab\"/></a>"
   ]
  },
  {
   "cell_type": "markdown",
   "metadata": {
    "colab_type": "text",
    "id": "Ryk8D1Q4Wsrp"
   },
   "source": [
    "# **INFO5731 Assignment One**"
   ]
  },
  {
   "cell_type": "markdown",
   "metadata": {
    "colab_type": "text",
    "id": "90_NR8c5XGWc"
   },
   "source": [
    "# Question 1\n",
    "\n",
    "(20 points). Write a Python program to generate 12 random numbers between 1 and 100. Sort the list of numbers in ascending order and print it out. Sort the list of numbers in descending order and print it out. Calculate the average for the group and print it out."
   ]
  },
  {
   "cell_type": "code",
   "execution_count": 15,
   "metadata": {
    "colab": {},
    "colab_type": "code",
    "id": "5QX6bJjGWXY9"
   },
   "outputs": [
    {
     "name": "stdout",
     "output_type": "stream",
     "text": [
      "random numbers = [25, 76, 74, 63, 34, 67, 43, 11, 8, 77, 31]\n",
      "ascending order = [8, 11, 25, 31, 34, 43, 63, 67, 74, 76, 77]\n",
      "descending order = [77, 76, 74, 67, 63, 43, 34, 31, 25, 11, 8]\n",
      "average =  46.27272727272727\n"
     ]
    }
   ],
   "source": [
    "import random\n",
    "#creating new list\n",
    "li = []\n",
    "#using for loop to generate random numbers for 12 times and adding to list\n",
    "for i in range(1,12):\n",
    "    r = random.randint(0,100)\n",
    "    li.append(r)\n",
    "print(\"random numbers =\",li)\n",
    "#sorting the random numbers list in ascending order\n",
    "asc = sorted(li,reverse=False)\n",
    "#sorting the random numbers list in descending order\n",
    "des = sorted(li,reverse=True)\n",
    "#calculating average of the list\n",
    "mean = sum(li) / len(li)\n",
    "print(\"ascending order =\",asc)\n",
    "print(\"descending order =\",des)\n",
    "print(\"average = \",mean)"
   ]
  },
  {
   "cell_type": "markdown",
   "metadata": {
    "colab_type": "text",
    "id": "1F_PZdH9Sh49"
   },
   "source": [
    "# Question 2\n",
    "(25 points). Write a program that will do the following string formatting tasks:\n",
    "\n",
    "(1) Ask the user to enter two sentences.\n",
    "\n",
    "(2) Make each sentence into a list. Each element in the list should correspond to a word in the sentence. For example, if the sentence is \"Alas! Am I alive? This is my first python program\", the program should print out ['Alas, '!', 'Am', 'I', 'alive, '?', 'This', 'is', 'my', 'first', 'python', 'program'].\n",
    "\n",
    "(3) Compare the two sentences. Print out a list of words that occur in both sentences.\n",
    "\n",
    "(4) Remove any punctuation from the sentence and print it back out. It should remove at least the following characters, but it can remove more: period(“.”), comma (“,”), semicolon (“;”), and colon (“:”)\n",
    "\n",
    "(5) Count the number of vowels in the sentences. Print out each vowel and the number of times it appears in the sentences, such as: a:2, e:1, i:0, etc"
   ]
  },
  {
   "cell_type": "code",
   "execution_count": 23,
   "metadata": {
    "colab": {},
    "colab_type": "code",
    "id": "Y0oOSlsOS0cq"
   },
   "outputs": [
    {
     "name": "stdout",
     "output_type": "stream",
     "text": [
      "enter first sentence:hi i am good. how are you?\n",
      "enter second sentence:how are you?\n",
      "sentence1= ['hi', 'i', 'am', 'good', '.', 'how', 'are', 'you', '?']\n",
      "sentence2= ['how', 'are', 'you', '?']\n",
      "list of words occur between both sentences ['how', 'are', 'you', '?']\n"
     ]
    }
   ],
   "source": [
    "import re\n",
    "#(1) ask user for input\n",
    "sentence1 = input(\"enter first sentence:\")\n",
    "sentence2 = input(\"enter second sentence:\")\n",
    "# assign the range or values by which words are split\n",
    "exp = r\"[0-9a-zA-Z_]+|\\$[\\d\\.]+|\\S+\"\n",
    "#we look for the above expression and split the sentence into words\n",
    "s1 = re.findall(exp,sentence1)\n",
    "s2 = re.findall(exp,sentence2)\n",
    "print(\"sentence1=\",s1)\n",
    "print(\"sentence2=\",s2)\n",
    "#(2) comparing the both sentences\n",
    "# we have opened a new list and compared the elements of sentence 1 with sentence 2 and returned the common elements\n",
    "#common elements are added to the list\n",
    "li = []\n",
    "for w1 in s1:\n",
    "    for w2 in s2:\n",
    "        if w1 == w2:\n",
    "            li.append(w1)\n",
    "print(\"list of words occur between both sentences:\",li)"
   ]
  },
  {
   "cell_type": "code",
   "execution_count": 94,
   "metadata": {},
   "outputs": [
    {
     "name": "stdout",
     "output_type": "stream",
     "text": [
      "sentence1 after removing punctuations:  hi i am good how are you\n",
      "sentence2 after removing punctuations:  how are you\n"
     ]
    }
   ],
   "source": [
    "#(3) remove punctuation marks from the list\n",
    "punctuation_li= ['.', ',',';',':','?','!'] \n",
    "#assigned the punctuation list which needs to be removed \n",
    "new_sen1 = \"\" \n",
    "# we have used for loop to check for all words in sentence one\n",
    "# we have used if condition to remove punctuation marks\n",
    "for p1 in s1:\n",
    "    if p1 not in punctuation_li:\n",
    "        new_sen1 = new_sen1+\" \" + p1 \n",
    "print(\"sentence1 after removing punctuations:\",new_sen1)\n",
    "#run the same code as above as for sentence 1 to remove punctuations\n",
    "new_sen2 = \"\"\n",
    "for p2 in s2:\n",
    "    if p2 not in punctuation_li:\n",
    "        new_sen2 = new_sen2 +\" \"+ p2\n",
    "print(\"sentence2 after removing punctuations:\",new_sen2)"
   ]
  },
  {
   "cell_type": "code",
   "execution_count": 95,
   "metadata": {},
   "outputs": [
    {
     "name": "stdout",
     "output_type": "stream",
     "text": [
      "Combined sentence:  hi i am good how are you how are you\n"
     ]
    },
    {
     "data": {
      "text/plain": [
       "{'a': 3, 'e': 2, 'i': 2, 'o': 6, 'u': 2}"
      ]
     },
     "execution_count": 95,
     "metadata": {},
     "output_type": "execute_result"
    }
   ],
   "source": [
    "#(4) count for number of vowels\n",
    "# we have combined both sentences and assigned it to new\n",
    "new = new_sen1 + new_sen2\n",
    "# we have converted the alphabets to lower case in order to avoid case sensitive issues\n",
    "new = new.lower()\n",
    "print(\"Combined sentence:\",new)\n",
    "# start a new dictionary\n",
    "vowels_count = {}\n",
    "# if vowels are there in new sentence then use count function to count the number of vowels\n",
    "for i in \"aeiou\":\n",
    "    count = new.count(i)\n",
    "    vowels_count[i] = count\n",
    "vowels_count"
   ]
  },
  {
   "cell_type": "markdown",
   "metadata": {
    "colab_type": "text",
    "id": "CmFoI4jDS9nx"
   },
   "source": [
    "# Question 3 \n",
    "\n",
    "(15 points). The formula that describes the volume V of a sphere with radius r is the following:\n",
    "\n",
    "$ V=\\frac{4}{3}\\ast\\ \\pi\\ast\\ r^3 $\n",
    "\n",
    "Write a program to calculate the value of V when r is in the range of 1–10. Output the result in the following format:\n",
    "\n",
    "\tr\tV\n",
    "\t1\t…\n",
    "\t2\t…\n",
    "\t3\t…\n"
   ]
  },
  {
   "cell_type": "code",
   "execution_count": 48,
   "metadata": {
    "colab": {},
    "colab_type": "code",
    "id": "pEyqeioAT95b"
   },
   "outputs": [],
   "source": [
    "from math import pi"
   ]
  },
  {
   "cell_type": "code",
   "execution_count": 54,
   "metadata": {
    "colab": {},
    "colab_type": "code",
    "id": "pMCr3l8tnu0j"
   },
   "outputs": [
    {
     "name": "stdout",
     "output_type": "stream",
     "text": [
      "Volume of sphere with radius r is\n",
      "1   4.1887902047863905\n",
      "2   33.510321638291124\n",
      "3   113.09733552923255\n",
      "4   268.082573106329\n",
      "5   523.5987755982989\n",
      "6   904.7786842338604\n",
      "7   1436.755040241732\n",
      "8   2144.660584850632\n",
      "9   3053.628059289279\n"
     ]
    }
   ],
   "source": [
    "# To find the volume of sphere\n",
    "print(\"Volume of sphere with radius r is\")\n",
    "# we have used for loop to select r values from range of 1 - 10 values\n",
    "for r in range(1,10):\n",
    "    volume = (4/3)*pi*r*r*r\n",
    "    print(r ,\" \", volume)"
   ]
  },
  {
   "cell_type": "markdown",
   "metadata": {
    "colab_type": "text",
    "id": "z3tBE7E-Xn5X"
   },
   "source": [
    "# Question 4\n",
    "\n",
    "(40 points). In the field of Data Science, data is often formatted as a comma-delimited (CSV) file, where each line in a file corresponds to a field's value. Refer to Chapter 9 (p. 106) for more information on comma-delimited files. To answer this question, you will need to download the file [Assignment1_denton_housing.csv](https://github.com/unt-iialab/info5731_spring2021/blob/main/assignment/Assignment1_denton_housing.csv) included with this assignment. The file [Assignment1_denton_housing.csv](https://github.com/unt-iialab/info5731_spring2021/blob/main/assignment/Assignment1_denton_housing.csv) contains statistics about housing in the city of Denton from 2008 to 2014. Write a program to implement the following questions.\n",
    "\n",
    "(1) (10 pts) Calculate the difference in the number of Occupied Housing Units from year to year and print it. The difference must be calculated for the consecutive years such as 2008-2009, 2009-2010 etc. Finally, print the values in the ascending order.\n",
    "\n",
    "(2) (10 pts) For all the years, calculate the percentage of housing units which are vacant an occupied. Print the results in the following format:\n",
    "\n",
    "Year Vacant Housing Units Occupied Housing Units\n",
    "\n",
    "    2008  30%   70%                          \n",
    "\t2009 ----- -----\n",
    "\t2010 ----- -----\n",
    "    2011 ----- -----\n",
    "\t2012 ----- -----\n",
    "    2013 ----- -----\n",
    "\t2014 ----- -----\n",
    "  \n",
    "  \n",
    "\n",
    "(3) (10 pts) Calculate and print the valued and years in which the highest number of housing units were vacant and occupied. Print the results in the following format:  \n",
    "\n",
    "                              Year\tValue\n",
    "\tVacant Housing Units\t  -----   -----\n",
    "\tOccupied Housing Units\t-----   -----\n",
    "\n",
    "(4) (10 pts) Calculate the harmonic mean of the total housing units and print it out. You can find the information about harmonic mean here: https://ncalculators.com/statistics/harmonic-mean-calculator.htm"
   ]
  },
  {
   "cell_type": "code",
   "execution_count": 79,
   "metadata": {
    "colab": {},
    "colab_type": "code",
    "id": "lqGYuHBhcsRH"
   },
   "outputs": [
    {
     "name": "stdout",
     "output_type": "stream",
     "text": [
      "consecutive difference [-795, 5091, -303, 1404, 1565, 2622]\n",
      "consecutive_years\tdifference\n",
      "2008 - 2009              -795\n",
      "2009 - 2010              5091\n",
      "2010 - 2011              -303\n",
      "2011 - 2012              1404\n",
      "2012 - 2013              1565\n",
      "2013 - 2014              2622\n",
      "The Ascending order of the difference values is:\n",
      "\n",
      "  consecutive_years  difference\n",
      "0         2008-2009        -795\n",
      "2         2010-2011        -303\n",
      "3         2011-2012        1404\n",
      "4         2012-2013        1565\n",
      "5         2013-2014        2622\n",
      "1         2009-2010        5091\n"
     ]
    }
   ],
   "source": [
    "#(1) calculate difference of occupied housing units from year to year\n",
    "import pandas as pd\n",
    "#read the csv file into dataframe\n",
    "my_dataframe1 = pd.read_csv(\"C:\\\\Users\\\\14696\\\\Documents\\\\Datascience\\\\5731\\\\Assignment1_denton_housing.csv\",index_col=\"year\")\n",
    "#returns a new dataframe sorted in ascending order\n",
    "my_dataframe1.sort_index(axis=0,ascending=True,inplace=True)\n",
    "\n",
    "#returns a new data frame where title field is occupied housing units and reset index\n",
    "my_dataframe2=my_dataframe1[my_dataframe1.title_field==\"Occupied Housing Units\"].sort_index(axis=0,ascending=True)\n",
    "my_dataframe2=my_dataframe2.reset_index()\n",
    "# returns array with year and corresponding values\n",
    "arr=my_dataframe2[[\"year\",\"value\"]].values\n",
    "\n",
    "#initate a new list using for loop calculate the conscecutive difference of values and add to list\n",
    "li = []\n",
    "for i in range(len(arr)-1):\n",
    "  li.append(arr[i+1][1]-arr[i][1])\n",
    "print(\"consecutive difference\",li)\n",
    "\n",
    "#using for loop to assign above difference list to consecutive years\n",
    "#we have used indexing to get values from list\n",
    "print(\"consecutive_years\\tdifference\")\n",
    "for i in range(2008,2014):\n",
    "  print(i,\"-\",i+1,\"            \",li[i-2008])\n",
    "\n",
    "#assign the values to data\n",
    "data = [['2008-2009', -795],['2009-2010', 5091],['2010-2011', -303],['2011-2012', 1404],['2012-2013', 1565],['2013-2014', 2622]]  \n",
    "#create a dataframe with two columns consecutive years and difference and sort the values by difference\n",
    "dataframe_3 = pd.DataFrame(data, columns = ['consecutive_years',  'difference'])\n",
    "sortedvalues = dataframe_3.sort_values('difference') \n",
    "#printing the values after sorting\n",
    "print(\"The Ascending order of the difference values is:\\n\")\n",
    "print(sortedvalues)"
   ]
  },
  {
   "cell_type": "code",
   "execution_count": 81,
   "metadata": {},
   "outputs": [
    {
     "name": "stdout",
     "output_type": "stream",
     "text": [
      "Years\tVacant Housing Units\t Occupied Housing Units\n",
      "2008 \t\t 11% \t\t 89%\n",
      "2009 \t\t 9% \t\t 91%\n",
      "2010 \t\t 8% \t\t 92%\n",
      "2011 \t\t 9% \t\t 91%\n",
      "2012 \t\t 7% \t\t 93%\n",
      "2013 \t\t 9% \t\t 91%\n",
      "2014 \t\t 6% \t\t 94%\n"
     ]
    }
   ],
   "source": [
    "#(2) calculate the percentage of housing units which are occupied and vacant\n",
    "my_dataframe1.reset_index(inplace=True)\n",
    "#initaiate occupied list and vacant list\n",
    "occupied_list=[]\n",
    "vacant_list=[]\n",
    "\n",
    "#using for loop in range of 2008 to 2015 to find number of vacant and occupied housing units\n",
    "#after finding the house units divide the occupied and vacant values by total values and add to the list\n",
    "for i in range(2008,2015):\n",
    "  occupied_list.append((my_dataframe1[(my_dataframe1[\"year\"]==i) & (my_dataframe1[\"title_field\"]==\"Occupied Housing Units\")].value.values)/(my_dataframe1[(my_dataframe1[\"year\"]==i) & (my_dataframe1[\"title_field\"]==\"Total Housing Units\")].value.values))\n",
    "  vacant_list.append((my_dataframe1[(my_dataframe1[\"year\"]==i) & (my_dataframe1[\"title_field\"]==\"Vacant Housing Units\")].value.values)/(my_dataframe1[(my_dataframe1[\"year\"]==i) & (my_dataframe1[\"title_field\"]==\"Total Housing Units\")].value.values))\n",
    "\n",
    "#calculate the percentage of housing units which are vacant and occupied\n",
    "print(\"Years\\tVacant Housing Units\\t Occupied Housing Units\")\n",
    "for i in range(2008,2015):\n",
    "  print(i,\"\\t\\t\",\"{0:.0f}%\".format(vacant_list[i-2008][0]*100),\"\\t\\t\",\"{0:.0f}%\".format(occupied_list[i-2008][0]*100))"
   ]
  },
  {
   "cell_type": "code",
   "execution_count": 87,
   "metadata": {},
   "outputs": [
    {
     "name": "stdout",
     "output_type": "stream",
     "text": [
      "\t\t\t Year\t Value\n",
      "Occupied Housing Units \t 2014 \t 46295\n",
      "Vacant Housing Units \t 2008 \t 4483\n"
     ]
    }
   ],
   "source": [
    "#(3) calculate the highest number of occupied and vacant units\n",
    "new_list1 = []\n",
    "new_list2 = [] \n",
    "\n",
    "for i in range(2008,2015):\n",
    "  new_list1.append(occupied_list[i-2008][0])\n",
    "  new_list2.append(vacant_list[i-2008][0])\n",
    "\n",
    "#to find the highest number of occupied and vacant units\n",
    "print(\"\\t\\t\\t Year\\t Value\")\n",
    "for i in enumerate(occupied_list,start=2008):\n",
    "  if(i[1][0]==max(new_list1)):\n",
    "    print(\"Occupied Housing Units \\t\",i[0],\"\\t\",(my_dataframe1[(my_dataframe1.year==i[0])&(my_dataframe1.title_field==\"Occupied Housing Units\")].value.values)[0])\n",
    "    break\n",
    "for i in enumerate(vacant_list,start=2008):\n",
    "  if(i[1][0]==max(new_list2)):\n",
    "    print(\"Vacant Housing Units \\t\",i[0],\"\\t\",(my_dataframe1[(my_dataframe1.year==i[0])&(my_dataframe1.title_field==\"Vacant Housing Units\")].value.values)[0])\n",
    "    break\n"
   ]
  },
  {
   "cell_type": "code",
   "execution_count": 93,
   "metadata": {},
   "outputs": [
    {
     "name": "stdout",
     "output_type": "stream",
     "text": [
      "harmonic mean of total housing units is 44398.28543969185\n"
     ]
    }
   ],
   "source": [
    "#(4) calculate harmonic mean of total housing units\n",
    "from scipy import stats\n",
    "#imported above module to calculate harmonic mean\n",
    "#consider the values where title field is total housing units and calculate harmonic mean using hmean\n",
    "harmonicmean = stats.hmean(my_dataframe1[my_dataframe1.title_field==\"Total Housing Units\"].value.values)\n",
    "print(\"harmonic mean of total housing units is\",harmonicmean)"
   ]
  },
  {
   "cell_type": "code",
   "execution_count": null,
   "metadata": {},
   "outputs": [],
   "source": []
  }
 ],
 "metadata": {
  "colab": {
   "authorship_tag": "ABX9TyOAjsNCkNulTpzgRQbHdy3f",
   "collapsed_sections": [],
   "include_colab_link": true,
   "name": "INFO5731_Assignment_One.ipynb",
   "provenance": []
  },
  "kernelspec": {
   "display_name": "Python 3",
   "language": "python",
   "name": "python3"
  },
  "language_info": {
   "codemirror_mode": {
    "name": "ipython",
    "version": 3
   },
   "file_extension": ".py",
   "mimetype": "text/x-python",
   "name": "python",
   "nbconvert_exporter": "python",
   "pygments_lexer": "ipython3",
   "version": "3.7.4"
  }
 },
 "nbformat": 4,
 "nbformat_minor": 1
}
