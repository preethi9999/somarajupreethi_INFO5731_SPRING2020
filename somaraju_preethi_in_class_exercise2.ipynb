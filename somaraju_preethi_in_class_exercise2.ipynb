{
 "cells": [
  {
   "cell_type": "markdown",
   "metadata": {
    "colab_type": "text",
    "id": "view-in-github"
   },
   "source": [
    "<a href=\"https://colab.research.google.com/github/unt-iialab/INFO5731_Spring2020/blob/master/In_class_exercise/In_class_exercise_02.ipynb\" target=\"_parent\"><img src=\"https://colab.research.google.com/assets/colab-badge.svg\" alt=\"Open In Colab\"/></a>"
   ]
  },
  {
   "cell_type": "markdown",
   "metadata": {
    "colab_type": "text",
    "id": "oo5bsEh2eeWi"
   },
   "source": [
    "# **The second In-class-exercise (1/27/2021, 20 points in total)**\n"
   ]
  },
  {
   "cell_type": "markdown",
   "metadata": {
    "colab_type": "text",
    "id": "2sPQ58dIeqgp"
   },
   "source": [
    "(1) Write a Python program to find the duplicate elements in a given array of integers. Return -1 If there are no such elements. (4 points)"
   ]
  },
  {
   "cell_type": "code",
   "execution_count": 3,
   "metadata": {
    "colab": {},
    "colab_type": "code",
    "id": "mnrvKMFTeoJR"
   },
   "outputs": [
    {
     "name": "stdout",
     "output_type": "stream",
     "text": [
      "It has duplicate values\n",
      "[1, 2, 3, 4, 5, 10]\n"
     ]
    }
   ],
   "source": [
    "li = [1,2,3,4,5,5,10,10]\n",
    "#using set function to eliminate any duplicate values\n",
    "new = set(li)\n",
    "#comparing the length of original list and set and see if they are equal or not\n",
    "#if the lengths are not equal it indicates the presence of duplicate elements if not return -1\n",
    "if len(li) != len(new):\n",
    "    print(\"It has duplicate values\")\n",
    "else:\n",
    "    print(\"-1\")\n",
    "#here we are printing the list without duplicate elements     \n",
    "print(list(new))"
   ]
  },
  {
   "cell_type": "markdown",
   "metadata": {
    "colab_type": "text",
    "id": "YYrH6n6IhZoQ"
   },
   "source": [
    "(2) Write a Python program to select all the Sundays of a specified year. (4 points)\n",
    "\n"
   ]
  },
  {
   "cell_type": "code",
   "execution_count": 4,
   "metadata": {
    "colab": {},
    "colab_type": "code",
    "id": "OSfPLd23eLpX"
   },
   "outputs": [
    {
     "name": "stdout",
     "output_type": "stream",
     "text": [
      "2021-01-03\n",
      "2021-01-10\n",
      "2021-01-17\n",
      "2021-01-24\n",
      "2021-01-31\n",
      "2021-02-07\n",
      "2021-02-14\n",
      "2021-02-21\n",
      "2021-02-28\n",
      "2021-03-07\n",
      "2021-03-14\n",
      "2021-03-21\n",
      "2021-03-28\n",
      "2021-04-04\n",
      "2021-04-11\n",
      "2021-04-18\n",
      "2021-04-25\n",
      "2021-05-02\n",
      "2021-05-09\n",
      "2021-05-16\n",
      "2021-05-23\n",
      "2021-05-30\n",
      "2021-06-06\n",
      "2021-06-13\n",
      "2021-06-20\n",
      "2021-06-27\n",
      "2021-07-04\n",
      "2021-07-11\n",
      "2021-07-18\n",
      "2021-07-25\n",
      "2021-08-01\n",
      "2021-08-08\n",
      "2021-08-15\n",
      "2021-08-22\n",
      "2021-08-29\n",
      "2021-09-05\n",
      "2021-09-12\n",
      "2021-09-19\n",
      "2021-09-26\n",
      "2021-10-03\n",
      "2021-10-10\n",
      "2021-10-17\n",
      "2021-10-24\n",
      "2021-10-31\n",
      "2021-11-07\n",
      "2021-11-14\n",
      "2021-11-21\n",
      "2021-11-28\n",
      "2021-12-05\n",
      "2021-12-12\n",
      "2021-12-19\n",
      "2021-12-26\n"
     ]
    }
   ],
   "source": [
    "#Datatime module is used for manipulating dates and time\n",
    "from datetime import date ,timedelta\n",
    "#Here we are using year 2021\n",
    "year = 2021\n",
    "#Here we are defining year month and day, so we mentioned it as 1st day of 2021\n",
    "dt = date(year,1,1)\n",
    "#Here we are calculating the difference\n",
    "dt += timedelta(days = 6 - dt.weekday())\n",
    "#iniating loop to calculate the number of sundays in given year\n",
    "while dt.year == year:\n",
    "    print(dt)\n",
    "    dt += timedelta(days = 7)"
   ]
  },
  {
   "cell_type": "markdown",
   "metadata": {
    "colab_type": "text",
    "id": "UIpziZ6Sjie-"
   },
   "source": [
    "(3) Python files reading and writing. Download the “[exercise_02_data _collection.zip](https://github.com/unt-iialab/info5731_spring2021/blob/main/class_exercises/exercise_02_data_collection.zip)” to your local and un-zip it.\n",
    "\n",
    "*   Write a program to read all the txt files and save the sentences in all the files into one csv file with two columns, the first column is sentence id (txt file name+sentence line number), the second column is the sentence text content. (4 points)\n",
    "*   Remove all the punctuations from the sentences, save the processed sentences into a new column in the same csv file. (4 points)\n",
    "*   Ask the user to enter a word, return all the sentences that include this word, three kinds of information should be returned: sentence id, sentence text content, the count that user input word appear in the sentence. (4 points)\n",
    "\n"
   ]
  },
  {
   "cell_type": "code",
   "execution_count": 20,
   "metadata": {
    "colab": {},
    "colab_type": "code",
    "id": "f3CUsrWOj1Xy"
   },
   "outputs": [
    {
     "data": {
      "text/plain": [
       "'C:\\\\Users\\\\14696'"
      ]
     },
     "execution_count": 20,
     "metadata": {},
     "output_type": "execute_result"
    }
   ],
   "source": [
    "import os\n",
    "os.getcwd()\n",
    "#checking the current directory location"
   ]
  },
  {
   "cell_type": "code",
   "execution_count": 29,
   "metadata": {},
   "outputs": [],
   "source": [
    "import glob \n",
    "path=r'C:\\Users\\14696\\exercise_2'\n",
    "files= glob.glob(path + \"/*.txt\")"
   ]
  },
  {
   "cell_type": "code",
   "execution_count": 39,
   "metadata": {},
   "outputs": [
    {
     "name": "stderr",
     "output_type": "stream",
     "text": [
      "C:\\Users\\14696\\Anaconda3\\lib\\site-packages\\ipykernel_launcher.py:12: SettingWithCopyWarning: \n",
      "A value is trying to be set on a copy of a slice from a DataFrame\n",
      "\n",
      "See the caveats in the documentation: http://pandas.pydata.org/pandas-docs/stable/user_guide/indexing.html#returning-a-view-versus-a-copy\n",
      "  if sys.path[0] == '':\n"
     ]
    },
    {
     "data": {
      "text/html": [
       "<div>\n",
       "<style scoped>\n",
       "    .dataframe tbody tr th:only-of-type {\n",
       "        vertical-align: middle;\n",
       "    }\n",
       "\n",
       "    .dataframe tbody tr th {\n",
       "        vertical-align: top;\n",
       "    }\n",
       "\n",
       "    .dataframe thead th {\n",
       "        text-align: right;\n",
       "    }\n",
       "</style>\n",
       "<table border=\"1\" class=\"dataframe\">\n",
       "  <thead>\n",
       "    <tr style=\"text-align: right;\">\n",
       "      <th></th>\n",
       "      <th>sentence id</th>\n",
       "      <th>sentence_text_content</th>\n",
       "    </tr>\n",
       "  </thead>\n",
       "  <tbody>\n",
       "    <tr>\n",
       "      <td>0</td>\n",
       "      <td>C:\\Users\\14696\\exercise_2\\ARTHROTEC.1.txt 0</td>\n",
       "      <td>I feel a bit drowsy &amp; have a little blurred vi...</td>\n",
       "    </tr>\n",
       "    <tr>\n",
       "      <td>1</td>\n",
       "      <td>C:\\Users\\14696\\exercise_2\\ARTHROTEC.1.txt 1</td>\n",
       "      <td>I've been on Arthrotec 50 for over 10 years on...</td>\n",
       "    </tr>\n",
       "    <tr>\n",
       "      <td>2</td>\n",
       "      <td>C:\\Users\\14696\\exercise_2\\ARTHROTEC.1.txt 2</td>\n",
       "      <td>Due to my arthritis getting progressively wors...</td>\n",
       "    </tr>\n",
       "    <tr>\n",
       "      <td>3</td>\n",
       "      <td>C:\\Users\\14696\\exercise_2\\ARTHROTEC.1.txt 3</td>\n",
       "      <td>every day for the next month to see how I get ...</td>\n",
       "    </tr>\n",
       "    <tr>\n",
       "      <td>4</td>\n",
       "      <td>C:\\Users\\14696\\exercise_2\\ARTHROTEC.1.txt 4</td>\n",
       "      <td>So far its been very good, pains almost gone, ...</td>\n",
       "    </tr>\n",
       "    <tr>\n",
       "      <td>...</td>\n",
       "      <td>...</td>\n",
       "      <td>...</td>\n",
       "    </tr>\n",
       "    <tr>\n",
       "      <td>528</td>\n",
       "      <td>C:\\Users\\14696\\exercise_2\\ARTHROTEC.99.txt 1</td>\n",
       "      <td>almost to faint to notice.</td>\n",
       "    </tr>\n",
       "    <tr>\n",
       "      <td>529</td>\n",
       "      <td>C:\\Users\\14696\\exercise_2\\ARTHROTEC.99.txt 2</td>\n",
       "      <td>However, I also get diarrhoea at least twice a...</td>\n",
       "    </tr>\n",
       "    <tr>\n",
       "      <td>530</td>\n",
       "      <td>C:\\Users\\14696\\exercise_2\\ARTHROTEC.99.txt 3</td>\n",
       "      <td>There are no gas pains and no other symptoms, ...</td>\n",
       "    </tr>\n",
       "    <tr>\n",
       "      <td>531</td>\n",
       "      <td>C:\\Users\\14696\\exercise_2\\ARTHROTEC.99.txt 4</td>\n",
       "      <td>When I am on holiday at the coast I am pain fr...</td>\n",
       "    </tr>\n",
       "    <tr>\n",
       "      <td>532</td>\n",
       "      <td>C:\\Users\\14696\\exercise_2\\ARTHROTEC.99.txt 5</td>\n",
       "      <td>It also allows me to sleep.</td>\n",
       "    </tr>\n",
       "  </tbody>\n",
       "</table>\n",
       "<p>533 rows × 2 columns</p>\n",
       "</div>"
      ],
      "text/plain": [
       "                                      sentence id  \\\n",
       "0     C:\\Users\\14696\\exercise_2\\ARTHROTEC.1.txt 0   \n",
       "1     C:\\Users\\14696\\exercise_2\\ARTHROTEC.1.txt 1   \n",
       "2     C:\\Users\\14696\\exercise_2\\ARTHROTEC.1.txt 2   \n",
       "3     C:\\Users\\14696\\exercise_2\\ARTHROTEC.1.txt 3   \n",
       "4     C:\\Users\\14696\\exercise_2\\ARTHROTEC.1.txt 4   \n",
       "..                                            ...   \n",
       "528  C:\\Users\\14696\\exercise_2\\ARTHROTEC.99.txt 1   \n",
       "529  C:\\Users\\14696\\exercise_2\\ARTHROTEC.99.txt 2   \n",
       "530  C:\\Users\\14696\\exercise_2\\ARTHROTEC.99.txt 3   \n",
       "531  C:\\Users\\14696\\exercise_2\\ARTHROTEC.99.txt 4   \n",
       "532  C:\\Users\\14696\\exercise_2\\ARTHROTEC.99.txt 5   \n",
       "\n",
       "                                 sentence_text_content  \n",
       "0    I feel a bit drowsy & have a little blurred vi...  \n",
       "1    I've been on Arthrotec 50 for over 10 years on...  \n",
       "2    Due to my arthritis getting progressively wors...  \n",
       "3    every day for the next month to see how I get ...  \n",
       "4    So far its been very good, pains almost gone, ...  \n",
       "..                                                 ...  \n",
       "528                         almost to faint to notice.  \n",
       "529  However, I also get diarrhoea at least twice a...  \n",
       "530  There are no gas pains and no other symptoms, ...  \n",
       "531  When I am on holiday at the coast I am pain fr...  \n",
       "532                        It also allows me to sleep.  \n",
       "\n",
       "[533 rows x 2 columns]"
      ]
     },
     "execution_count": 39,
     "metadata": {},
     "output_type": "execute_result"
    }
   ],
   "source": [
    "import pandas as pd\n",
    "abc=[]\n",
    "count=0\n",
    "for filename in my_files:\n",
    "    abc.append(pd.read_csv(filename,delimiter=\"\\n\",header=None))\n",
    "    abc[count]=abc[count].reset_index()\n",
    "    abc[count][\"sentence id\"]= filename.replace(\"C:/Users/14696/exercise_2/\" , \"\")\n",
    "    count+=1\n",
    "#naming first column as sentence_id\n",
    "sample= pd.concat(abc, ignore_index=True)\n",
    "for i in range(len(sample)):\n",
    "    sample[\"sentence id\"][i] = sample[\"sentence id\"][i] + \" \" +str(sample[\"index\"][i])\n",
    "#renaming second column as sentence text content\n",
    "sample=sample[[\"sentence id\" , 0]].rename(columns={0:\"sentence_text_content\"})\n",
    "sample"
   ]
  },
  {
   "cell_type": "code",
   "execution_count": 40,
   "metadata": {},
   "outputs": [
    {
     "name": "stderr",
     "output_type": "stream",
     "text": [
      "C:\\Users\\14696\\Anaconda3\\lib\\site-packages\\ipykernel_launcher.py:5: SettingWithCopyWarning: \n",
      "A value is trying to be set on a copy of a slice from a DataFrame\n",
      "\n",
      "See the caveats in the documentation: http://pandas.pydata.org/pandas-docs/stable/user_guide/indexing.html#returning-a-view-versus-a-copy\n",
      "  \"\"\"\n"
     ]
    },
    {
     "data": {
      "text/html": [
       "<div>\n",
       "<style scoped>\n",
       "    .dataframe tbody tr th:only-of-type {\n",
       "        vertical-align: middle;\n",
       "    }\n",
       "\n",
       "    .dataframe tbody tr th {\n",
       "        vertical-align: top;\n",
       "    }\n",
       "\n",
       "    .dataframe thead th {\n",
       "        text-align: right;\n",
       "    }\n",
       "</style>\n",
       "<table border=\"1\" class=\"dataframe\">\n",
       "  <thead>\n",
       "    <tr style=\"text-align: right;\">\n",
       "      <th></th>\n",
       "      <th>sentence id</th>\n",
       "      <th>sentence_text_content</th>\n",
       "      <th>new_sentence</th>\n",
       "    </tr>\n",
       "  </thead>\n",
       "  <tbody>\n",
       "    <tr>\n",
       "      <td>0</td>\n",
       "      <td>C:\\Users\\14696\\exercise_2\\ARTHROTEC.1.txt 0</td>\n",
       "      <td>I feel a bit drowsy &amp; have a little blurred vi...</td>\n",
       "      <td>I feel a bit drowsy  have a little blurred vis...</td>\n",
       "    </tr>\n",
       "    <tr>\n",
       "      <td>1</td>\n",
       "      <td>C:\\Users\\14696\\exercise_2\\ARTHROTEC.1.txt 1</td>\n",
       "      <td>I've been on Arthrotec 50 for over 10 years on...</td>\n",
       "      <td>Ive been on Arthrotec 50 for over 10 years on ...</td>\n",
       "    </tr>\n",
       "    <tr>\n",
       "      <td>2</td>\n",
       "      <td>C:\\Users\\14696\\exercise_2\\ARTHROTEC.1.txt 2</td>\n",
       "      <td>Due to my arthritis getting progressively wors...</td>\n",
       "      <td>Due to my arthritis getting progressively wors...</td>\n",
       "    </tr>\n",
       "    <tr>\n",
       "      <td>3</td>\n",
       "      <td>C:\\Users\\14696\\exercise_2\\ARTHROTEC.1.txt 3</td>\n",
       "      <td>every day for the next month to see how I get ...</td>\n",
       "      <td>every day for the next month to see how I get ...</td>\n",
       "    </tr>\n",
       "    <tr>\n",
       "      <td>4</td>\n",
       "      <td>C:\\Users\\14696\\exercise_2\\ARTHROTEC.1.txt 4</td>\n",
       "      <td>So far its been very good, pains almost gone, ...</td>\n",
       "      <td>So far its been very good pains almost gone bu...</td>\n",
       "    </tr>\n",
       "    <tr>\n",
       "      <td>...</td>\n",
       "      <td>...</td>\n",
       "      <td>...</td>\n",
       "      <td>...</td>\n",
       "    </tr>\n",
       "    <tr>\n",
       "      <td>528</td>\n",
       "      <td>C:\\Users\\14696\\exercise_2\\ARTHROTEC.99.txt 1</td>\n",
       "      <td>almost to faint to notice.</td>\n",
       "      <td>almost to faint to notice</td>\n",
       "    </tr>\n",
       "    <tr>\n",
       "      <td>529</td>\n",
       "      <td>C:\\Users\\14696\\exercise_2\\ARTHROTEC.99.txt 2</td>\n",
       "      <td>However, I also get diarrhoea at least twice a...</td>\n",
       "      <td>However I also get diarrhoea at least twice a day</td>\n",
       "    </tr>\n",
       "    <tr>\n",
       "      <td>530</td>\n",
       "      <td>C:\\Users\\14696\\exercise_2\\ARTHROTEC.99.txt 3</td>\n",
       "      <td>There are no gas pains and no other symptoms, ...</td>\n",
       "      <td>There are no gas pains and no other symptoms s...</td>\n",
       "    </tr>\n",
       "    <tr>\n",
       "      <td>531</td>\n",
       "      <td>C:\\Users\\14696\\exercise_2\\ARTHROTEC.99.txt 4</td>\n",
       "      <td>When I am on holiday at the coast I am pain fr...</td>\n",
       "      <td>When I am on holiday at the coast I am pain fr...</td>\n",
       "    </tr>\n",
       "    <tr>\n",
       "      <td>532</td>\n",
       "      <td>C:\\Users\\14696\\exercise_2\\ARTHROTEC.99.txt 5</td>\n",
       "      <td>It also allows me to sleep.</td>\n",
       "      <td>It also allows me to sleep</td>\n",
       "    </tr>\n",
       "  </tbody>\n",
       "</table>\n",
       "<p>533 rows × 3 columns</p>\n",
       "</div>"
      ],
      "text/plain": [
       "                                      sentence id  \\\n",
       "0     C:\\Users\\14696\\exercise_2\\ARTHROTEC.1.txt 0   \n",
       "1     C:\\Users\\14696\\exercise_2\\ARTHROTEC.1.txt 1   \n",
       "2     C:\\Users\\14696\\exercise_2\\ARTHROTEC.1.txt 2   \n",
       "3     C:\\Users\\14696\\exercise_2\\ARTHROTEC.1.txt 3   \n",
       "4     C:\\Users\\14696\\exercise_2\\ARTHROTEC.1.txt 4   \n",
       "..                                            ...   \n",
       "528  C:\\Users\\14696\\exercise_2\\ARTHROTEC.99.txt 1   \n",
       "529  C:\\Users\\14696\\exercise_2\\ARTHROTEC.99.txt 2   \n",
       "530  C:\\Users\\14696\\exercise_2\\ARTHROTEC.99.txt 3   \n",
       "531  C:\\Users\\14696\\exercise_2\\ARTHROTEC.99.txt 4   \n",
       "532  C:\\Users\\14696\\exercise_2\\ARTHROTEC.99.txt 5   \n",
       "\n",
       "                                 sentence_text_content  \\\n",
       "0    I feel a bit drowsy & have a little blurred vi...   \n",
       "1    I've been on Arthrotec 50 for over 10 years on...   \n",
       "2    Due to my arthritis getting progressively wors...   \n",
       "3    every day for the next month to see how I get ...   \n",
       "4    So far its been very good, pains almost gone, ...   \n",
       "..                                                 ...   \n",
       "528                         almost to faint to notice.   \n",
       "529  However, I also get diarrhoea at least twice a...   \n",
       "530  There are no gas pains and no other symptoms, ...   \n",
       "531  When I am on holiday at the coast I am pain fr...   \n",
       "532                        It also allows me to sleep.   \n",
       "\n",
       "                                          new_sentence  \n",
       "0    I feel a bit drowsy  have a little blurred vis...  \n",
       "1    Ive been on Arthrotec 50 for over 10 years on ...  \n",
       "2    Due to my arthritis getting progressively wors...  \n",
       "3    every day for the next month to see how I get ...  \n",
       "4    So far its been very good pains almost gone bu...  \n",
       "..                                                 ...  \n",
       "528                          almost to faint to notice  \n",
       "529  However I also get diarrhoea at least twice a day  \n",
       "530  There are no gas pains and no other symptoms s...  \n",
       "531  When I am on holiday at the coast I am pain fr...  \n",
       "532                         It also allows me to sleep  \n",
       "\n",
       "[533 rows x 3 columns]"
      ]
     },
     "execution_count": 40,
     "metadata": {},
     "output_type": "execute_result"
    }
   ],
   "source": [
    "sample[\"new_sentence\"]=0\n",
    "#removed all the punctuations and assigned it to new sentence\n",
    "import re\n",
    "for i in range(len(sample)):\n",
    "  sample[\"new_sentence\"][i] = re.sub(r'[^\\w\\s]','', sample.sentence_text_content[i])\n",
    "sample"
   ]
  },
  {
   "cell_type": "code",
   "execution_count": 42,
   "metadata": {},
   "outputs": [
    {
     "name": "stdout",
     "output_type": "stream",
     "text": [
      "drowsy\n",
      " enter the word to search for drowsy\n"
     ]
    },
    {
     "data": {
      "text/html": [
       "<div>\n",
       "<style scoped>\n",
       "    .dataframe tbody tr th:only-of-type {\n",
       "        vertical-align: middle;\n",
       "    }\n",
       "\n",
       "    .dataframe tbody tr th {\n",
       "        vertical-align: top;\n",
       "    }\n",
       "\n",
       "    .dataframe thead th {\n",
       "        text-align: right;\n",
       "    }\n",
       "</style>\n",
       "<table border=\"1\" class=\"dataframe\">\n",
       "  <thead>\n",
       "    <tr style=\"text-align: right;\">\n",
       "      <th></th>\n",
       "      <th>sentence id</th>\n",
       "      <th>sentence_text_content</th>\n",
       "      <th>new_sentence</th>\n",
       "    </tr>\n",
       "  </thead>\n",
       "  <tbody>\n",
       "    <tr>\n",
       "      <td>0</td>\n",
       "      <td>C:\\Users\\14696\\exercise_2\\ARTHROTEC.1.txt 0</td>\n",
       "      <td>I feel a bit drowsy &amp; have a little blurred vi...</td>\n",
       "      <td>I feel a bit drowsy  have a little blurred vis...</td>\n",
       "    </tr>\n",
       "  </tbody>\n",
       "</table>\n",
       "</div>"
      ],
      "text/plain": [
       "                                   sentence id  \\\n",
       "0  C:\\Users\\14696\\exercise_2\\ARTHROTEC.1.txt 0   \n",
       "\n",
       "                               sentence_text_content  \\\n",
       "0  I feel a bit drowsy & have a little blurred vi...   \n",
       "\n",
       "                                        new_sentence  \n",
       "0  I feel a bit drowsy  have a little blurred vis...  "
      ]
     },
     "execution_count": 42,
     "metadata": {},
     "output_type": "execute_result"
    }
   ],
   "source": [
    "word=input()\n",
    "print(\" enter the word to search for\", word)\n",
    "#in the new sentence we are looking for the word given by user\n",
    "sample[sample[\"new_sentence\"].str.contains(word)]"
   ]
  },
  {
   "cell_type": "code",
   "execution_count": 43,
   "metadata": {},
   "outputs": [
    {
     "data": {
      "text/plain": [
       "1"
      ]
     },
     "execution_count": 43,
     "metadata": {},
     "output_type": "execute_result"
    }
   ],
   "source": [
    "sample[\"new_sentence\"].str.count(word).sum()\n",
    "#counting the number of words in the new sentence"
   ]
  },
  {
   "cell_type": "markdown",
   "metadata": {
    "colab_type": "text",
    "id": "-12cqmJEpZOh"
   },
   "source": [
    "(4) Install packages nltk, numpy, scipy, pandas, and sklearn on Google Colab. Write a program to test whether they are installed successfully. (3 points for extra)"
   ]
  },
  {
   "cell_type": "code",
   "execution_count": 52,
   "metadata": {
    "colab": {},
    "colab_type": "code",
    "id": "f1pn1Zl2qK77"
   },
   "outputs": [
    {
     "name": "stdout",
     "output_type": "stream",
     "text": [
      "Requirement already satisfied: nltk in c:\\users\\14696\\anaconda3\\lib\\site-packages (3.4.5)\n",
      "Requirement already satisfied: six in c:\\users\\14696\\anaconda3\\lib\\site-packages (from nltk) (1.12.0)\n",
      "Requirement already satisfied: numpy in c:\\users\\14696\\anaconda3\\lib\\site-packages (1.16.5)\n",
      "Requirement already satisfied: scipy in c:\\users\\14696\\anaconda3\\lib\\site-packages (1.3.1)\n",
      "Requirement already satisfied: pandas in c:\\users\\14696\\anaconda3\\lib\\site-packages (0.25.1)\n",
      "Requirement already satisfied: pytz>=2017.2 in c:\\users\\14696\\anaconda3\\lib\\site-packages (from pandas) (2019.3)\n",
      "Requirement already satisfied: python-dateutil>=2.6.1 in c:\\users\\14696\\anaconda3\\lib\\site-packages (from pandas) (2.8.0)\n",
      "Requirement already satisfied: numpy>=1.13.3 in c:\\users\\14696\\anaconda3\\lib\\site-packages (from pandas) (1.16.5)\n",
      "Requirement already satisfied: six>=1.5 in c:\\users\\14696\\anaconda3\\lib\\site-packages (from python-dateutil>=2.6.1->pandas) (1.12.0)\n",
      "Requirement already satisfied: sklearn in c:\\users\\14696\\anaconda3\\lib\\site-packages (0.0)\n",
      "Requirement already satisfied: scikit-learn in c:\\users\\14696\\anaconda3\\lib\\site-packages (from sklearn) (0.21.3)\n",
      "Requirement already satisfied: joblib>=0.11 in c:\\users\\14696\\anaconda3\\lib\\site-packages (from scikit-learn->sklearn) (0.13.2)\n",
      "Requirement already satisfied: numpy>=1.11.0 in c:\\users\\14696\\anaconda3\\lib\\site-packages (from scikit-learn->sklearn) (1.16.5)\n",
      "Requirement already satisfied: scipy>=0.17.0 in c:\\users\\14696\\anaconda3\\lib\\site-packages (from scikit-learn->sklearn) (1.3.1)\n"
     ]
    }
   ],
   "source": [
    "# installing the above asked packages \n",
    "\n",
    "! pip install nltk\n",
    "! pip install numpy\n",
    "! pip install scipy\n",
    "! pip install pandas\n",
    "! pip install sklearn\n",
    "\n",
    "#sucessfully installed the packages"
   ]
  },
  {
   "cell_type": "code",
   "execution_count": null,
   "metadata": {},
   "outputs": [],
   "source": []
  }
 ],
 "metadata": {
  "colab": {
   "authorship_tag": "ABX9TyO+tpE40PgxRU/8NgGfGYzw",
   "collapsed_sections": [],
   "include_colab_link": true,
   "name": "In_class_exercise_02.ipynb",
   "provenance": []
  },
  "kernelspec": {
   "display_name": "Python 3",
   "language": "python",
   "name": "python3"
  },
  "language_info": {
   "codemirror_mode": {
    "name": "ipython",
    "version": 3
   },
   "file_extension": ".py",
   "mimetype": "text/x-python",
   "name": "python",
   "nbconvert_exporter": "python",
   "pygments_lexer": "ipython3",
   "version": "3.7.4"
  }
 },
 "nbformat": 4,
 "nbformat_minor": 1
}
